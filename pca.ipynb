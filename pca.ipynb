{
 "metadata": {
  "language_info": {
   "codemirror_mode": {
    "name": "ipython",
    "version": 3
   },
   "file_extension": ".py",
   "mimetype": "text/x-python",
   "name": "python",
   "nbconvert_exporter": "python",
   "pygments_lexer": "ipython3",
   "version": "3.7.0"
  },
  "orig_nbformat": 2,
  "kernelspec": {
   "name": "python370jvsc74a57bd0590650678132f1c2cd7f3b7668c5f33ab2f9d22ed1562e726c27d635cc5e66b0",
   "display_name": "Python 3.7.0 64-bit"
  }
 },
 "nbformat": 4,
 "nbformat_minor": 2,
 "cells": [
  {
   "cell_type": "code",
   "execution_count": 29,
   "metadata": {},
   "outputs": [],
   "source": [
    "from pca import pca\n",
    "import numpy as np\n",
    "from sklearn.datasets import load_iris"
   ]
  },
  {
   "cell_type": "code",
   "execution_count": 30,
   "metadata": {},
   "outputs": [],
   "source": [
    "X = (2.5,2.4), (0.5,0.7), (2.2,2.9), (1.9,2.2), (3.1,3.0), (2.3, 2.7), (2, 1.6), (1,\n",
    "1.1), (1.5, 1.6), (1.1, 0.9)"
   ]
  },
  {
   "cell_type": "code",
   "execution_count": 31,
   "metadata": {},
   "outputs": [],
   "source": [
    "model = pca(n_components=2)\r\n",
    "model = pca(n_components=3)"
   ]
  },
  {
   "cell_type": "code",
   "execution_count": 32,
   "metadata": {},
   "outputs": [
    {
     "output_type": "stream",
     "name": "stdout",
     "text": [
      "[pca] >Column labels are auto-completed.\n[pca] >Row labels are auto-completed.\n[pca] >Warning: >Number of components can not be more then number of features. n_components is set to 1\n[pca] >The PCA reduction is performed on the [2] columns of the input dataframe.\n[pca] >Fitting using PCA..\n[pca] >Computing loadings and PCs..\n[pca] >Computing explained variance..\n[pca] >Outlier detection using Hotelling T2 test with alpha=[0.05] and n_components=[1]\n[pca] >Outlier detection using SPE/DmodX with n_std=[2]\n"
     ]
    }
   ],
   "source": [
    "results = model.fit_transform(np.array(X))"
   ]
  },
  {
   "cell_type": "code",
   "execution_count": 33,
   "metadata": {},
   "outputs": [
    {
     "output_type": "execute_result",
     "data": {
      "text/plain": [
       "{'loadings':             1         2\n",
       " PC1 -0.677873 -0.735179,\n",
       " 'PC':           PC1\n",
       " 1.0 -0.827970\n",
       " 1.0  1.777580\n",
       " 1.0 -0.992197\n",
       " 1.0 -0.274210\n",
       " 1.0 -1.675801\n",
       " 1.0 -0.912949\n",
       " 1.0  0.099109\n",
       " 1.0  1.144572\n",
       " 1.0  0.438046\n",
       " 1.0  1.223821,\n",
       " 'explained_var': array([0.96318131]),\n",
       " 'model': PCA(n_components=1),\n",
       " 'scaler': None,\n",
       " 'pcp': 0.963181314348646,\n",
       " 'topfeat':     PC feature   loading  type\n",
       " 0  PC1       2 -0.735179  best\n",
       " 1  PC1       1 -0.677873  weak,\n",
       " 'outliers':       y_proba   y_score  y_bool y_bool_spe y_score_spe\n",
       " 1.0  0.441178  1.636612   False      False        None\n",
       " 1.0  0.098216  4.641166   False        NaN        None\n",
       " 1.0  0.356021  2.065534   False        NaN        None\n",
       " 1.0  0.798662  0.449636   False        NaN        None\n",
       " 1.0  0.119024  4.256867   False        NaN        None\n",
       " 1.0  0.395739  1.853999   False        NaN        None\n",
       " 1.0  0.926543  0.152589   False        NaN        None\n",
       " 1.0  0.287003  2.496522   False        NaN        None\n",
       " 1.0  0.683652  0.760613   False        NaN        None\n",
       " 1.0  0.254938  2.733472   False        NaN        None}"
      ]
     },
     "metadata": {},
     "execution_count": 33
    }
   ],
   "source": [
    "results"
   ]
  },
  {
   "cell_type": "code",
   "execution_count": 34,
   "metadata": {},
   "outputs": [
    {
     "output_type": "error",
     "ename": "Exception",
     "evalue": "[pca] >Error: No PCs are found with explained variance..",
     "traceback": [
      "\u001b[1;31m---------------------------------------------------------------------------\u001b[0m",
      "\u001b[1;31mException\u001b[0m                                 Traceback (most recent call last)",
      "\u001b[1;32m<ipython-input-34-ce2942e75325>\u001b[0m in \u001b[0;36m<module>\u001b[1;34m\u001b[0m\n\u001b[1;32m----> 1\u001b[1;33m \u001b[0mfig\u001b[0m\u001b[1;33m,\u001b[0m \u001b[0max\u001b[0m \u001b[1;33m=\u001b[0m \u001b[0mmodel\u001b[0m\u001b[1;33m.\u001b[0m\u001b[0mscatter\u001b[0m\u001b[1;33m(\u001b[0m\u001b[1;33m)\u001b[0m\u001b[1;33m\u001b[0m\u001b[0m\n\u001b[0m",
      "\u001b[1;32m~\\AppData\\Local\\Programs\\Python\\Python37\\lib\\site-packages\\pca\\pca.py\u001b[0m in \u001b[0;36mscatter\u001b[1;34m(self, y, d3, label, legend, PC, SPE, hotellingt2, cmap, visible, figsize, alpha_transparency)\u001b[0m\n\u001b[0;32m    497\u001b[0m \u001b[1;33m\u001b[0m\u001b[0m\n\u001b[0;32m    498\u001b[0m         \u001b[1;32mif\u001b[0m \u001b[0my\u001b[0m \u001b[1;32mis\u001b[0m \u001b[1;32mNone\u001b[0m\u001b[1;33m:\u001b[0m\u001b[1;33m\u001b[0m\u001b[0m\n\u001b[1;32m--> 499\u001b[1;33m             \u001b[0my\u001b[0m\u001b[1;33m,\u001b[0m \u001b[0m_\u001b[0m\u001b[1;33m,\u001b[0m \u001b[0m_\u001b[0m \u001b[1;33m=\u001b[0m \u001b[0mself\u001b[0m\u001b[1;33m.\u001b[0m\u001b[0m_fig_preprocessing\u001b[0m\u001b[1;33m(\u001b[0m\u001b[0my\u001b[0m\u001b[1;33m,\u001b[0m \u001b[1;32mNone\u001b[0m\u001b[1;33m,\u001b[0m \u001b[0md3\u001b[0m\u001b[1;33m)\u001b[0m\u001b[1;33m\u001b[0m\u001b[0m\n\u001b[0m\u001b[0;32m    500\u001b[0m \u001b[1;33m\u001b[0m\u001b[0m\n\u001b[0;32m    501\u001b[0m         \u001b[1;31m# Get coordinates\u001b[0m\u001b[1;33m\u001b[0m\u001b[1;33m\u001b[0m\u001b[0m\n",
      "\u001b[1;32m~\\AppData\\Local\\Programs\\Python\\Python37\\lib\\site-packages\\pca\\pca.py\u001b[0m in \u001b[0;36m_fig_preprocessing\u001b[1;34m(self, y, n_feat, d3)\u001b[0m\n\u001b[0;32m    410\u001b[0m \u001b[1;33m\u001b[0m\u001b[0m\n\u001b[0;32m    411\u001b[0m         \u001b[1;32mif\u001b[0m \u001b[0mlen\u001b[0m\u001b[1;33m(\u001b[0m\u001b[0mself\u001b[0m\u001b[1;33m.\u001b[0m\u001b[0mresults\u001b[0m\u001b[1;33m[\u001b[0m\u001b[1;34m'explained_var'\u001b[0m\u001b[1;33m]\u001b[0m\u001b[1;33m)\u001b[0m\u001b[1;33m<=\u001b[0m\u001b[1;36m1\u001b[0m\u001b[1;33m:\u001b[0m\u001b[1;33m\u001b[0m\u001b[0m\n\u001b[1;32m--> 412\u001b[1;33m             \u001b[1;32mraise\u001b[0m \u001b[0mException\u001b[0m\u001b[1;33m(\u001b[0m\u001b[1;34m'[pca] >Error: No PCs are found with explained variance..'\u001b[0m\u001b[1;33m)\u001b[0m\u001b[1;33m\u001b[0m\u001b[0m\n\u001b[0m\u001b[0;32m    413\u001b[0m \u001b[1;33m\u001b[0m\u001b[0m\n\u001b[0;32m    414\u001b[0m         \u001b[1;32mreturn\u001b[0m \u001b[0my\u001b[0m\u001b[1;33m,\u001b[0m \u001b[0mtopfeat\u001b[0m\u001b[1;33m,\u001b[0m \u001b[0mn_feat\u001b[0m\u001b[1;33m\u001b[0m\u001b[0m\n",
      "\u001b[1;31mException\u001b[0m: [pca] >Error: No PCs are found with explained variance.."
     ]
    }
   ],
   "source": [
    "from matplotlib import pyplot as plt\n",
    "import numpy as np\n",
    "\n",
    "plt.figure()\n",
    "a = [1,2,5,6,9,11,15,17,18]\n",
    "plt.hlines(1,1,20)  # Draw a horizontal line\n",
    "plt.eventplot(a, orientation='horizontal', colors='b')\n",
    "plt.axis('off')\n",
    "plt.show()"
   ]
  },
  {
   "cell_type": "code",
   "execution_count": null,
   "metadata": {},
   "outputs": [],
   "source": []
  }
 ]
}